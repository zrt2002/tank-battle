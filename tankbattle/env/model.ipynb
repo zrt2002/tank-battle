{
 "cells": [
  {
   "cell_type": "code",
   "execution_count": null,
   "metadata": {},
   "outputs": [],
   "source": [
    "import random\n",
    "import numpy as np\n",
    "import torch\n",
    "import torch.nn.functional as F\n",
    "import matplotlib.pyplot as plt\n",
    "from tqdm import tqdm\n",
    "from torch import nn\n",
    "\n",
    "lr = 1e-2\n",
    "num_episodes = 200\n",
    "action_dim = 5\n",
    "gamma = 0.98\n",
    "epsilon = 0.01\n",
    "target_update = 50\n",
    "buffer_size = 5000\n",
    "minimal_size = 1000\n",
    "batch_size = 64\n",
    "device = torch.device(\"cuda\") if torch.cuda.is_available() else torch.device(\n",
    "    \"cpu\")\n",
    "agent = DQN(action_dim, lr, gamma, epsilon,\n",
    "            target_update, device, 'DoubleDQN')\n",
    "return_list, max_q_value_list = train_DQN(\n",
    "    agent, env, num_episodes,\n",
    "    replay_buffer, minimal_size,                                      batch_size)\n",
    "\n",
    "episodes_list = list(range(len(return_list)))\n",
    "mv_return = rl_utils.moving_average(return_list, 5)\n",
    "# plt.plot(episodes_list, mv_return)\n",
    "# plt.xlabel('Episodes')\n",
    "# plt.ylabel('Returns')\n",
    "# plt.title('Dueling DQN on {}'.format(env_name))\n",
    "# plt.show()\n",
    "\n",
    "# frames_list = list(range(len(max_q_value_list)))\n",
    "# plt.plot(frames_list, max_q_value_list)\n",
    "# plt.axhline(0, c='orange', ls='--')\n",
    "# plt.axhline(10, c='red', ls='--')\n",
    "# plt.xlabel('Frames')\n",
    "# plt.ylabel('Q value')\n",
    "# plt.title('Dueling DQN on {}'.format(env_name))\n",
    "# plt.show()"
   ]
  }
 ],
 "metadata": {
  "kernelspec": {
   "display_name": "py39",
   "language": "python",
   "name": "python3"
  },
  "language_info": {
   "codemirror_mode": {
    "name": "ipython",
    "version": 3
   },
   "file_extension": ".py",
   "mimetype": "text/x-python",
   "name": "python",
   "nbconvert_exporter": "python",
   "pygments_lexer": "ipython3",
   "version": "3.9.18"
  }
 },
 "nbformat": 4,
 "nbformat_minor": 2
}
